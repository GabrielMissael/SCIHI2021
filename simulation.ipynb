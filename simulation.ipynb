{
 "cells": [
  {
   "cell_type": "markdown",
   "source": [
    "# Simulation"
   ],
   "metadata": {}
  },
  {
   "cell_type": "code",
   "execution_count": 1,
   "source": [
    "import numpy as np\n",
    "import pandas as pd\n",
    "import healpy as hp\n",
    "from pygdsm import GlobalSkyModel\n",
    "\n",
    "import matplotlib.pyplot as plt\n",
    "from matplotlib import cm\n",
    "from mpl_toolkits.mplot3d import Axes3D\n",
    "\n",
    "from scihi.simulations.power_to_temperature import *\n",
    "from scihi.simulations.Tgsm import*\n",
    "\n",
    "import os\n",
    "import glob\n",
    "import copy\n",
    "\n",
    "#for image storage\n",
    "impath = \"images/\"\n",
    "\n",
    "if not os.path.exists(impath):\n",
    "    os.makedirs(impath)"
   ],
   "outputs": [
    {
     "output_type": "stream",
     "name": "stdout",
     "text": [
      "Going Through\n"
     ]
    }
   ],
   "metadata": {}
  },
  {
   "cell_type": "markdown",
   "source": [
    "## Pre-processing beam pattern data and getting GSM maps."
   ],
   "metadata": {}
  },
  {
   "cell_type": "code",
   "execution_count": 3,
   "source": [
    "def hibiscus(pathtbeam='data/HIBiscus/', output=\"data/antenna_beam_biscus/\"):\n",
    "    '''\n",
    "    DESCRIPTION: Process the beam pattern of the HIBiscus antenna and puts the\n",
    "    separated hdf5 files in the \"antenna_beam\" folder. Each frequency\n",
    "    has an individual file e.g. \"050MHz.hdf5\"\n",
    "\n",
    "    INPUT: pathbeam = path of folder with beam pattern .txt files\n",
    "    '''\n",
    "\n",
    "    Freqs = np.arange(50, 91)\n",
    "    for f in Freqs:\n",
    "        infile = pathtbeam+\"0%dMHz.txt\" % f\n",
    "        Data = np.loadtxt(infile)\n",
    "        df = pd.DataFrame(data=Data, columns=['Theta', 'Phi', 'dB'])\n",
    "        df.to_hdf(output + '0%dMHz.hdf5' % f, 'df')\n",
    "\n",
    "\n",
    "def mango_peel(file=\"data/mango_peel_beam_pattern.dat\", output=\"data/antenna_beam_mango/\"):\n",
    "    '''\n",
    "    DESCRIPTION: Process the beam pattern of the Mango Peel or the HIBiscus antenna and puts the\n",
    "    separated hdf5 files in the \"antenna_beam\" folder. Each frequency\n",
    "    has an individual file e.g. \"050MHz.hdf5\"\n",
    "\n",
    "    INPUT: file = location of beam pattern .dat file\n",
    "    '''\n",
    "\n",
    "    df = pd.read_csv(file, sep=\", \",\n",
    "                     index_col=0, header=None, engine=\"python\")\n",
    "\n",
    "    new_header = df.iloc[0]\n",
    "    df = df[1:]\n",
    "    df.columns = new_header\n",
    "    df.reset_index(inplace=True)\n",
    "    df.rename(columns={0: \"THETA\"}, inplace=True)\n",
    "\n",
    "    theta = list(df[\"THETA\"])\n",
    "    phi = list(df[\"'PHI'\"])\n",
    "\n",
    "    Freq = np.arange(30000000.0, 150000000.0, 1000000)\n",
    "\n",
    "    for f in Freq:\n",
    "        data = df[f]\n",
    "\n",
    "        file = pd.DataFrame(list(zip(theta, phi, data)),\n",
    "                            columns=['Theta', 'Phi', 'dB'])\n",
    "\n",
    "        file[\"Theta\"] = pd.to_numeric(file[\"Theta\"], downcast=\"float\")\n",
    "        file[\"Phi\"] = pd.to_numeric(file[\"Phi\"], downcast=\"float\")\n",
    "        file[\"dB\"] = pd.to_numeric(file[\"dB\"], downcast=\"float\")\n",
    "\n",
    "        name = \"0\" + str(int(f/(1e+6))) + \"MHz\"\n",
    "        file.to_hdf(output+name+'.hdf5', 'df')\n"
   ],
   "outputs": [],
   "metadata": {}
  },
  {
   "cell_type": "code",
   "execution_count": 4,
   "source": [
    "if not os.path.exists('data/antenna_beam_mango'):\n",
    "    os.makedirs('data/antenna_beam_mango')\n",
    "    mango_peel()\n",
    "\n",
    "if not os.path.exists('data/antenna_beam_biscus'):\n",
    "    os.makedirs('data/antenna_beam_biscus')\n",
    "    hibiscus()\n",
    "\n",
    "# Loads the GSM maps files in the folder \"gsm_maps\"\n",
    "if not os.path.exists('data/gsm_maps'):\n",
    "    os.makedirs('data/gsm_maps')\n",
    "\n",
    "    Freqs = np.arange(50, 91)  # Frequency of interest 50-90 MHz.\n",
    "    for f in Freqs:\n",
    "        gsm = GlobalSkyModel()\n",
    "        gsm_map = gsm.generate(f)\n",
    "        DATA = pd.DataFrame(gsm_map)\n",
    "        DATA.to_hdf('data/gsm_maps/gsm_%dMHz.hdf5' % f, 'df')\n"
   ],
   "outputs": [],
   "metadata": {}
  },
  {
   "cell_type": "markdown",
   "source": [
    "## Generate simulated mock antenna pattern"
   ],
   "metadata": {}
  },
  {
   "cell_type": "code",
   "execution_count": 6,
   "source": [
    "Freqs = np.arange(50, 91)\n",
    "kB = 1.38064852e-23  # Boltzmann constant\n",
    "\n",
    "# Inverse transformation from Temp to dBms\n",
    "# Transformacion de dBm's a potencia\n",
    "\n",
    "\n",
    "def P_dBm(source): return 30.+10*np.log10(source)\n",
    "\n",
    "\n",
    "def T2dBm(T, freqs, Bwidth):\n",
    "    T = np.array(T, dtype=np.float64)\n",
    "\n",
    "    area = 1.0      # m^2\n",
    "    angle = 55.0  # degrees\n",
    "    theta = deg2arcsec(angle)\n",
    "    freq = freqs * 1e6  # Hz\n",
    "    wavelength = (c / freq) * 100.  # cm\n",
    "\n",
    "    flux_Jy = T*theta**2/(1.36*wavelength**2.)  # mJy\n",
    "    flux_Jy = flux_Jy / 1e3  # Jy\n",
    "    flux = flux_Jy / 1e26  # Jy\n",
    "    power = 0.5*flux*area/Bwidth\n",
    "    dBm = P_dBm(power)\n",
    "    return dBm\n"
   ],
   "outputs": [],
   "metadata": {}
  },
  {
   "cell_type": "code",
   "execution_count": 7,
   "source": [
    "for antenna in ['mango', 'biscus']:\n",
    "\n",
    "    if not os.path.exists('data/mock_pattern_'+antenna):\n",
    "        os.makedirs('data/mock_pattern_'+antenna)\n",
    "\n",
    "        for Freq in Freqs:\n",
    "            Data = pd.read_hdf('data/antenna_beam_'+antenna+'/0%dMHz.hdf5' % Freq)\n",
    "\n",
    "            theta, phi = np.radians(\n",
    "                Data.values[:, 0]), np.radians(Data.values[:, 1])\n",
    "            X, Y, Z = np.sin(theta)*np.cos(phi), np.sin(theta) * \\\n",
    "                np.sin(phi), np.cos(theta)\n",
    "            dB = Data.values[:, 2]\n",
    "            Temp = Radio_source_trans(dB, Freq, 1e6)\n",
    "            mock_temp = max(Temp)*np.exp(-0.5*(X/0.3)**2.-0.5*(Y/0.3)**2.)\n",
    "            mock_dBm = T2dBm(mock_temp, Freq, 1e6)\n",
    "            mock_data = np.transpose(\n",
    "                [Data.values[:, 0], Data.values[:, 1], mock_dBm])\n",
    "\n",
    "            df = pd.DataFrame(data=mock_data, columns=['Theta', 'Phi', 'dB'])\n",
    "            df.to_hdf('data/mock_pattern_'+antenna+'/0%dMHz.hdf5' % Freq, 'df')\n"
   ],
   "outputs": [],
   "metadata": {}
  },
  {
   "cell_type": "markdown",
   "source": [
    "## Generate simulated data (convolution) "
   ],
   "metadata": {}
  },
  {
   "cell_type": "markdown",
   "source": [
    "This part of the notebook generates an HDF5 table with the convolved temperatures of the antenna for a day of observation, the binnage in this case is 5 minutes, it can be changed by modifying the bins parameter.\n",
    "\n",
    "The function to use is T_gsm from Tgsm.py. \n",
    "\n",
    "Uncomment if needed."
   ],
   "metadata": {}
  },
  {
   "cell_type": "code",
   "execution_count": 12,
   "source": [
    "# You can change the path to anywhere your antenna beam pattern files are.\n",
    "\"\"\"\n",
    "T_gsm('2013-06-14 00:00:00', PATH='data/mock_pattern_biscus/', OUTPUT='data/mock_biscus/')\n",
    "T_gsm('2013-06-14 00:00:00', PATH='data/mock_pattern_mango/', OUTPUT='data/mock_mango/')\n",
    "\n",
    "T_gsm('2013-06-14 00:00:00', PATH='data/antenna_beam_biscus/', OUTPUT=\"data/biscus/\")\n",
    "T_gsm('2013-06-14 00:00:00', PATH='data/antenna_beam_mango/', OUTPUT=\"data/mango/\")\n",
    "\"\"\"\n"
   ],
   "outputs": [
    {
     "output_type": "execute_result",
     "data": {
      "text/plain": [
       "'\\nT_gsm(\\'2013-06-14 00:00:00\\', PATH=\\'data/mock_pattern_biscus/\\', OUTPUT=\\'data/mock_biscus/\\')\\nT_gsm(\\'2013-06-14 00:00:00\\', PATH=\\'data/mock_pattern_mango/\\', OUTPUT=\\'data/mock_mango/\\')\\n\\nT_gsm(\\'2013-06-14 00:00:00\\', PATH=\\'data/antenna_beam_biscus/\\', OUTPUT=\"data/biscus/\")\\nT_gsm(\\'2013-06-14 00:00:00\\', PATH=\\'data/antenna_beam_mango/\\', OUTPUT=\"data/mango/\")\\n'"
      ]
     },
     "metadata": {},
     "execution_count": 12
    }
   ],
   "metadata": {}
  },
  {
   "cell_type": "markdown",
   "source": [
    "## Diurnal Variation and Simulated Temperature"
   ],
   "metadata": {}
  },
  {
   "cell_type": "markdown",
   "source": [
    "Checking the diurnal variation of the temperature for every frequency in the rage 50-90 MHz."
   ],
   "metadata": {}
  },
  {
   "cell_type": "code",
   "execution_count": 9,
   "source": [
    "# Data generated in the convolution.\n",
    "Data_mango = pd.read_hdf('data/mango/Tgsm.hdf5')\n",
    "Data_biscus = pd.read_hdf('data/biscus/Tgsm.hdf5')\n",
    "\n",
    "Data_mock_mango = pd.read_hdf('data/mock_mango/Tgsm.hdf5')\n",
    "Data_mock_biscus = pd.read_hdf('data/mock_biscus/Tgsm.hdf5')\n",
    "\n",
    "Freqs = np.arange(50, 91)\n"
   ],
   "outputs": [],
   "metadata": {}
  },
  {
   "cell_type": "markdown",
   "source": [
    "Checking the Local Sidereal Time (LST) for the date, this is done in order to plot the diurnal variation of a given frequency in functiong of LST, this could be done in function of UTC, but for comparision with SCI-HI paper."
   ],
   "metadata": {}
  },
  {
   "cell_type": "code",
   "execution_count": 10,
   "source": [
    "check_LST('2013-06-14 00:00:00')\n"
   ],
   "outputs": [
    {
     "output_type": "stream",
     "name": "stdout",
     "text": [
      "LST time: 9h36m36.59878124s\n"
     ]
    },
    {
     "output_type": "execute_result",
     "data": {
      "text/latex": [
       "$9^{\\mathrm{h}}36^{\\mathrm{m}}36.59878124^{\\mathrm{s}}$"
      ],
      "text/plain": [
       "<Longitude 9.61016633 hourangle>"
      ]
     },
     "metadata": {},
     "execution_count": 10
    }
   ],
   "metadata": {}
  },
  {
   "cell_type": "code",
   "execution_count": 13,
   "source": [
    "f = 70  # Frequency to check\n",
    "\n",
    "Freqs = np.arange(50, 91)  # Frequency of interest 50-90 MHz.\n",
    "\n",
    "for antenna in ['mango', 'biscus']:\n",
    "    for Freq in Freqs:\n",
    "        Data = pd.read_hdf('data/antenna_beam_'+antenna+'/0%dMHz.hdf5' % Freq)\n",
    "\n",
    "        theta, phi = np.radians(\n",
    "            Data.values[:, 0]), np.radians(Data.values[:, 1])\n",
    "        X, Y, Z = np.sin(theta)*np.cos(phi), np.sin(theta) * \\\n",
    "            np.sin(phi), np.cos(theta)\n",
    "        dB = Data.values[:, 2]\n",
    "        Temp = Radio_source_trans(dB, Freq, 1e6)\n",
    "\n",
    "Temp\n"
   ],
   "outputs": [
    {
     "output_type": "execute_result",
     "data": {
      "text/plain": [
       "array([2.55997020e-05, 4.22410700e+24, 1.20741039e+25, ...,\n",
       "       1.20741039e+25, 4.22410700e+24, 1.35573532e-05])"
      ]
     },
     "metadata": {},
     "execution_count": 13
    }
   ],
   "metadata": {}
  },
  {
   "cell_type": "code",
   "execution_count": 16,
   "source": [
    "Temp_mango = Data_mango.loc[f].values\n",
    "Time_ = (np.linspace(0,24,len(Temp_mango))+9.62)%24 # For 2013-06-14 LST = UTC + 9:37 (9.62h)\n",
    "\n",
    "Time_"
   ],
   "outputs": [
    {
     "output_type": "execute_result",
     "data": {
      "text/plain": [
       "array([ 9.62      ,  9.95802817, 10.29605634, 10.63408451, 10.97211268,\n",
       "       11.31014085, 11.64816901, 11.98619718, 12.32422535, 12.66225352,\n",
       "       13.00028169, 13.33830986, 13.67633803, 14.0143662 , 14.35239437,\n",
       "       14.69042254, 15.0284507 , 15.36647887, 15.70450704, 16.04253521,\n",
       "       16.38056338, 16.71859155, 17.05661972, 17.39464789, 17.73267606,\n",
       "       18.07070423, 18.40873239, 18.74676056, 19.08478873, 19.4228169 ,\n",
       "       19.76084507, 20.09887324, 20.43690141, 20.77492958, 21.11295775,\n",
       "       21.45098592, 21.78901408, 22.12704225, 22.46507042, 22.80309859,\n",
       "       23.14112676, 23.47915493, 23.8171831 ,  0.15521127,  0.49323944,\n",
       "        0.83126761,  1.16929577,  1.50732394,  1.84535211,  2.18338028,\n",
       "        2.52140845,  2.85943662,  3.19746479,  3.53549296,  3.87352113,\n",
       "        4.2115493 ,  4.54957746,  4.88760563,  5.2256338 ,  5.56366197,\n",
       "        5.90169014,  6.23971831,  6.57774648,  6.91577465,  7.25380282,\n",
       "        7.59183099,  7.92985915,  8.26788732,  8.60591549,  8.94394366,\n",
       "        9.28197183,  9.62      ])"
      ]
     },
     "metadata": {},
     "execution_count": 16
    }
   ],
   "metadata": {}
  },
  {
   "cell_type": "code",
   "execution_count": 17,
   "source": [
    "Temp_mango = Data_mango.loc[f].values\n",
    "Temp_biscus = Data_biscus.loc[f].values\n",
    "Temp_mock_biscus = Data_mock_biscus.loc[f].values\n",
    "Temp_mock_mango = Data_mock_mango.loc[f].values\n",
    "\n",
    "# For 2013-06-14 LST = UTC + 9:37 (9.62h)\n",
    "Time_ = (np.linspace(0, 24, len(Temp_mango))+9.62) % 24\n",
    "\n",
    "plt.plot(Time_, Temp_mock_mango, marker='o', linestyle='None',\n",
    "         markersize=3, label='Gaussian mango peel', color='#1b9e77')\n",
    "plt.plot(Time_, Temp_mock_biscus, marker='v', linestyle='None',\n",
    "         markersize=3, label='Gaussian HIBiscus', color='#d95f02')\n",
    "plt.plot(Time_, Temp_biscus, marker='p', linestyle='None',\n",
    "         markersize=3, label='Mango peel', color='#7570b3')\n",
    "plt.plot(Time_, Temp_mango, marker='x', linestyle='None',\n",
    "         markersize=3, label='HIBiscus', color='#e7298a')\n",
    "\n",
    "plt.xlabel('LST [Hours]')\n",
    "plt.ylabel('Temperature [Kelvin]')\n",
    "plt.xlim(0, 24)\n",
    "plt.grid()\n",
    "plt.legend()\n",
    "plt.savefig(impath+'variation_%dMHz.png'%f)\n"
   ],
   "outputs": [
    {
     "output_type": "display_data",
     "data": {
      "image/png": "[encoded data removed]",
      "text/plain": [
       "<Figure size 432x288 with 1 Axes>"
      ]
     },
     "metadata": {
      "needs_background": "light"
     }
    }
   ],
   "metadata": {}
  },
  {
   "cell_type": "markdown",
   "source": [
    "Plotting the diurnal variation for every frequency in the range of 50-90 MHz.\n",
    "\n",
    "Note: No conversion to LST has be done in this part, so the plot's xlabel is in UTC."
   ],
   "metadata": {}
  },
  {
   "cell_type": "code",
   "execution_count": 18,
   "source": [
    "# '''\n",
    "\n",
    "for f in Freqs:\n",
    "    Temp = Data.loc[f].values\n",
    "    Time_ = np.linspace(0, 24, len(Temp))\n",
    "    plt.plot(Time_[::5], Temp[::5], '-o', markersize=4)\n",
    "    plt.xlabel('UTC [Hours]')\n",
    "    plt.ylabel('Temperature [Kelvin]')\n",
    "    plt.xlim(0, 24)\n",
    "    plt.grid()\n",
    "    plt.savefig(impath+'mockvariation_%dMHz.png' % f)\n",
    "    plt.close()\n",
    "\n",
    "# '''\n"
   ],
   "outputs": [],
   "metadata": {}
  },
  {
   "cell_type": "markdown",
   "source": [
    "Plotting the temperature in function of the frequency for the date given."
   ],
   "metadata": {}
  },
  {
   "cell_type": "code",
   "execution_count": 19,
   "source": [
    "Temp_mango = Data_mango['2013-06-14 08:00:00.000'].values\n",
    "Temp_biscus = Data_biscus['2013-06-14 08:00:00.000'].values\n",
    "Temp_mock_mango = Data_mock_mango['2013-06-14 08:00:00.000'].values\n",
    "Temp_mock_biscus = Data_mock_biscus['2013-06-14 08:00:00.000'].values\n",
    "\n",
    "plt.xlabel('Frequency [MHz]')\n",
    "plt.ylabel('Temperature [Kelvin]')\n",
    "\n",
    "plt.plot(Freqs, Temp_mock_mango, marker='o', linestyle='None',\n",
    "         markersize=3, label='Gaussian mango peel', color='#1b9e77')\n",
    "plt.plot(Freqs, Temp_mock_biscus, marker='v', linestyle='None',\n",
    "         markersize=3, label='Gaussian HIBiscus', color='#d95f02')\n",
    "plt.plot(Freqs, Temp_biscus, marker='p', linestyle='None',\n",
    "         markersize=3, label='Mango peel', color='#7570b3')\n",
    "plt.plot(Freqs, Temp_mango, marker='x', linestyle='None',\n",
    "         markersize=3, label='HIBiscus', color='#e7298a')\n",
    "\n",
    "# plt.xlim(60,90)\n",
    "# plt.ylim(1900,6500)\n",
    "plt.legend()\n",
    "plt.savefig(impath+'FreqvsTemp.png')\n",
    "plt.show()\n"
   ],
   "outputs": [
    {
     "output_type": "display_data",
     "data": {
      "image/png": "[encoded data removed]",
      "text/plain": [
       "<Figure size 432x288 with 1 Axes>"
      ]
     },
     "metadata": {
      "needs_background": "light"
     }
    }
   ],
   "metadata": {}
  },
  {
   "cell_type": "code",
   "execution_count": null,
   "source": [],
   "outputs": [],
   "metadata": {}
  }
 ],
 "metadata": {
  "kernelspec": {
   "name": "python3",
   "display_name": "Python 3.8.10 64-bit ('env': venv)"
  },
  "language_info": {
   "codemirror_mode": {
    "name": "ipython",
    "version": 3
   },
   "file_extension": ".py",
   "mimetype": "text/x-python",
   "name": "python",
   "nbconvert_exporter": "python",
   "pygments_lexer": "ipython3",
   "version": "3.8.10"
  },
  "interpreter": {
   "hash": "5a96c29e40103ca9b60d2f98e3fa14bca5de89d8bc7a732d1c0597813dc1264a"
  }
 },
 "nbformat": 4,
 "nbformat_minor": 4
}